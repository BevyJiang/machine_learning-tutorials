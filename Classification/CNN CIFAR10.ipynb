{
 "cells": [
  {
   "cell_type": "code",
   "execution_count": 18,
   "metadata": {},
   "outputs": [],
   "source": [
    "import numpy as np\n",
    "import torch\n",
    "from torch import nn, optim\n",
    "from torch.utils.data import DataLoader\n",
    "from torch.autograd import Variable\n"
   ]
  },
  {
   "cell_type": "code",
   "execution_count": 3,
   "metadata": {},
   "outputs": [],
   "source": [
    "import torch.cuda as cuda\n",
    "\n",
    "device = torch.device(\"cuda:0\" if cuda.is_available() else \"cpu\")"
   ]
  },
  {
   "cell_type": "code",
   "execution_count": 8,
   "metadata": {},
   "outputs": [
    {
     "name": "stderr",
     "output_type": "stream",
     "text": [
      "  0%|          | 0/170498071 [00:00<?, ?it/s]"
     ]
    },
    {
     "name": "stdout",
     "output_type": "stream",
     "text": [
      "Downloading https://www.cs.toronto.edu/~kriz/cifar-10-python.tar.gz to ./CIFAR10/cifar-10-python.tar.gz\n"
     ]
    },
    {
     "name": "stderr",
     "output_type": "stream",
     "text": [
      " 99%|█████████▉| 168927232/170498071 [00:09<00:00, 18480465.64it/s]"
     ]
    },
    {
     "name": "stdout",
     "output_type": "stream",
     "text": [
      "Extracting ./CIFAR10/cifar-10-python.tar.gz to ./CIFAR10/\n",
      "Files already downloaded and verified\n"
     ]
    },
    {
     "name": "stderr",
     "output_type": "stream",
     "text": [
      "170500096it [00:20, 18480465.64it/s]                               "
     ]
    }
   ],
   "source": [
    "from torchvision import datasets, transforms\n",
    "\n",
    "transformations = transforms.Compose(\n",
    "    [transforms.ToTensor(),\n",
    "     transforms.Normalize((0.5, 0.5, 0.5), (0.5, 0.5, 0.5))])\n",
    "train_set = datasets.CIFAR10(root='./CIFAR10/', download=True, transform=transformations)\n",
    "test_set = datasets.CIFAR10(root='./CIFAR10/', download=True, train=False, transform=transformations)"
   ]
  },
  {
   "cell_type": "code",
   "execution_count": 9,
   "metadata": {},
   "outputs": [],
   "source": [
    "batch_size = 32\n",
    "train_loader = torch.utils.data.DataLoader(train_set, batch_size, shuffle=True, num_workers=2)\n",
    "test_loader = torch.utils.data.DataLoader(test_set, batch_size, shuffle=True, num_workers=2)"
   ]
  },
  {
   "cell_type": "code",
   "execution_count": 10,
   "metadata": {},
   "outputs": [],
   "source": [
    "from torch.nn import functional as F\n",
    "class ConvModel(nn.Module):\n",
    "  # Your Code Here\n",
    "    def __init__(self):\n",
    "        super(ConvModel, self).__init__()\n",
    "        self.conv1 = nn.Conv2d(3,16,kernel_size = 3, stride = 1, padding = 1)\n",
    "        self.conv2 = nn.Conv2d(16,16,kernel_size = 3, stride = 1, padding = 1)\n",
    "        self.maxp = nn.MaxPool2d(2)\n",
    "        self.ln1 = nn.Linear(4096,64)\n",
    "        self.ln2 = nn.Linear(64,10)\n",
    "    \n",
    "    def forward(self, x):\n",
    "        input_size = x.size(0)\n",
    "        x1 = F.relu(self.conv1(x))\n",
    "        x2 = self.maxp(x1)\n",
    "        x3 = F.relu(self.conv2(x2))\n",
    "        x4 = x3.view(input_size, -1)\n",
    "        x5 = F.relu(self.ln1(x4))\n",
    "        x6 = self.ln2(x5)\n",
    "\n",
    "        return F.log_softmax(x6)"
   ]
  },
  {
   "cell_type": "code",
   "execution_count": 12,
   "metadata": {},
   "outputs": [],
   "source": [
    "model = ConvModel().to(device)\n",
    "\n",
    "loss = nn.CrossEntropyLoss()\n",
    "optimizer = optim.RMSprop(model.parameters(), lr=0.001, weight_decay=0.01)\n",
    "\n"
   ]
  },
  {
   "cell_type": "code",
   "execution_count": 26,
   "metadata": {},
   "outputs": [],
   "source": [
    "def train(model, train, test, loss_func, opt, num_epochs=15):\n",
    "    \n",
    "    \n",
    "    for i in range(num_epochs):\n",
    "        model.train()\n",
    "        for batch_idx,(image,label) in enumerate(train):\n",
    "            images, labels = Variable(image), Variable(label)\n",
    "            opt.zero_grad()\n",
    "\n",
    "            pred = model(images)\n",
    "            loss = loss_func(pred, labels)\n",
    "            loss.backward()\n",
    "            opt.step()\n",
    "            if batch_idx % 10 == 0:\n",
    "                print ('Train Epoch: {} [{}/{} ({:.0f}%)]\\tLoss: {:.6f}'.format(\n",
    "                num_epochs, batch_idx * len(image), len(train.dataset),\n",
    "                100. * batch_idx / len(train), loss.item()))\n",
    "            \n",
    "            \n",
    "        model.eval()\n",
    "        for batch_idx,(image,label) in enumerate(test):\n",
    "            test_loss = 0\n",
    "            test_acc = 0\n",
    "            image, label = image.to(device), label.to(device)\n",
    "            output = model(image)\n",
    "            test_loss += loss_func(output,label)\n",
    "            prediction = torch.argmax(output,dim=1)\n",
    "            test_acc += prediction.eq(label.data.view_as(prediction)).cpu().sum()\n",
    "            \n",
    "        test_loss/=len(test.dataset)\n",
    "        print ('\\nTest set: Average loss: {:.4f}, Accuracy: {}/{} ({:.0f}%)\\n'.format(\n",
    "        test_loss, correct, len(testdataset),\n",
    "        100. * test_acc / len(test.dataset)))"
   ]
  },
  {
   "cell_type": "code",
   "execution_count": 30,
   "metadata": {},
   "outputs": [],
   "source": [
    "metrics = train(model, train_loader, test_loader, loss, optimizer, 5)"
   ]
  }
 ],
 "metadata": {
  "kernelspec": {
   "display_name": "Python 3",
   "language": "python",
   "name": "python3"
  },
  "language_info": {
   "codemirror_mode": {
    "name": "ipython",
    "version": 3
   },
   "file_extension": ".py",
   "mimetype": "text/x-python",
   "name": "python",
   "nbconvert_exporter": "python",
   "pygments_lexer": "ipython3",
   "version": "3.7.3"
  }
 },
 "nbformat": 4,
 "nbformat_minor": 2
}
