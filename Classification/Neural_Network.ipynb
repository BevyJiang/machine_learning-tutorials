{
  "nbformat": 4,
  "nbformat_minor": 0,
  "metadata": {
    "colab": {
      "name": "Neural Network",
      "provenance": []
    },
    "kernelspec": {
      "display_name": "Python 3",
      "language": "python",
      "name": "python3"
    }
  },
  "cells": [
    {
      "cell_type": "code",
      "metadata": {
        "id": "zDQRX0acA3EU",
        "colab_type": "code",
        "colab": {}
      },
      "source": [
        "import torch\n",
        "import torchvision\n",
        "from torchvision import datasets, transforms\n",
        "from torch.utils.data import DataLoader\n",
        "from torch import nn\n",
        "from torch import optim\n",
        "from torch.autograd import Variable\n",
        "\n",
        "import numpy as np\n",
        "import matplotlib.pyplot as plt\n",
        "\n",
        "\n",
        "transformations = transforms.Compose([transforms.ToTensor()])\n",
        "mnist_train = torchvision.datasets.MNIST('fill_your_working_directory', train=True, transform=transformations, download=True)\n",
        "mnist_test = torchvision.datasets.MNIST('fill_your_working_directory', train=False, transform=transformations)"
      ],
      "execution_count": 0,
      "outputs": []
    },
    {
      "cell_type": "code",
      "metadata": {
        "id": "9MioWFcAA3Ea",
        "colab_type": "code",
        "colab": {}
      },
      "source": [
        "print(len(mnist_train))\n",
        "print(len(mnist_train[0]))\n",
        "mnist_train"
      ],
      "execution_count": 0,
      "outputs": []
    },
    {
      "cell_type": "code",
      "metadata": {
        "id": "tIHXhkqmA3Ec",
        "colab_type": "code",
        "colab": {}
      },
      "source": [
        "print(len(mnist_test))\n",
        "print(len(mnist_test[0]))\n",
        "mnist_test"
      ],
      "execution_count": 0,
      "outputs": []
    },
    {
      "cell_type": "code",
      "metadata": {
        "id": "6VT3-ZlxA3Eh",
        "colab_type": "code",
        "colab": {}
      },
      "source": [
        "train_loader = torch.utils.data.DataLoader(mnist_train, batch_size = 32, shuffle = True)\n",
        "test_loader = torch.utils.data.DataLoader(mnist_test, batch_size = 32, shuffle = True)"
      ],
      "execution_count": 0,
      "outputs": []
    },
    {
      "cell_type": "code",
      "metadata": {
        "id": "ZkamGMrDA3Eq",
        "colab_type": "code",
        "colab": {}
      },
      "source": [
        "class OneLayerModel(nn.Module):\n",
        "    def __init__(self, input_dim, output_dim):\n",
        "        super(OneLayerModel, self).__init__()\n",
        "        self.h1 = nn.Linear(input_dim,output_dim)\n",
        "    \n",
        "        \n",
        "    def forward(self, x):\n",
        "        output = x.view(-1,28*28)\n",
        "        output = self.h1(output)\n",
        "        return output"
      ],
      "execution_count": 0,
      "outputs": []
    },
    {
      "cell_type": "code",
      "metadata": {
        "id": "ywkSisKcA3E1",
        "colab_type": "code",
        "colab": {}
      },
      "source": [
        "model = OneLayerModel(28*28,10)\n",
        "loss = nn.CrossEntropyLoss()\n",
        "optimizer = optim.SGD(model.parameters(), lr = 0.001, momentum=0.9)"
      ],
      "execution_count": 0,
      "outputs": []
    },
    {
      "cell_type": "code",
      "metadata": {
        "id": "aEmBWXyFA3E6",
        "colab_type": "code",
        "colab": {}
      },
      "source": [
        "def train(model, train_loader, val_loader, loss_func, opt,num_epochs=10):\n",
        "    train_loss_list = []\n",
        "    training_accuracy = []\n",
        "    test_loss_list = []\n",
        "    testing_accuracy = []\n",
        "    for e in range(num_epochs):\n",
        "        model.train()\n",
        "        train_loss = 0\n",
        "        num_correct = 0\n",
        "        for batch_idx, (data, target) in enumerate(train_loader):\n",
        "            data, target = Variable(data), Variable(target)\n",
        "            opt.zero_grad()\n",
        "            output = model(data)\n",
        "            temp = loss_func(output, target)\n",
        "            train_loss += temp.item()\n",
        "            temp.backward()\n",
        "            opt.step()\n",
        "            pred = output.data.max(1, keepdim=True)[1]\n",
        "            target = target.view_as(pred)\n",
        "            num_correct += sum(pred==target).item()\n",
        "        train_loss_list.append(train_loss/len(train_loader))\n",
        "        accuracy = num_correct/len(train_loader.dataset)\n",
        "        training_accuracy.append(accuracy) \n",
        "\n",
        "\n",
        "        model.eval()\n",
        "        test_loss = 0\n",
        "        correct = 0.0\n",
        "        for data, target in val_loader:\n",
        "            data, target = Variable(data), Variable(target)\n",
        "            output = model(data)\n",
        "\n",
        "            test_loss += loss_func(output, target).item()\n",
        "\n",
        "            pred = output.data.max(1, keepdim=True)[1]\n",
        "            target = target.view_as(pred)\n",
        "            correct += sum(pred==target).item()\n",
        "\n",
        "        test_loss_list.append(test_loss/len(test_loader))\n",
        "        accuracy = correct/len(val_loader.dataset)\n",
        "        testing_accuracy.append(accuracy)\n",
        "    return train_loss_list, training_accuracy, test_loss_list, testing_accuracy\n",
        "      \n",
        "     "
      ],
      "execution_count": 0,
      "outputs": []
    },
    {
      "cell_type": "code",
      "metadata": {
        "id": "3yG1B1ESA3E_",
        "colab_type": "code",
        "colab": {}
      },
      "source": [
        "train_loss_list, training_accuracy, test_loss_list, testing_accuracy = train(model, train_loader, test_loader, loss, optimizer, 15)"
      ],
      "execution_count": 0,
      "outputs": []
    },
    {
      "cell_type": "code",
      "metadata": {
        "id": "VmQDOXH1A3FI",
        "colab_type": "code",
        "colab": {}
      },
      "source": [
        "import torch.nn.functional as F\n",
        "class TwoLayerModel(nn.Module):\n",
        "   \n",
        "    def __init__(self):\n",
        "        super(TwoLayerModel, self).__init__()\n",
        "        self.l1 = nn.Linear(784,520)\n",
        "        self.l2 = nn.Linear(520, 10)\n",
        "    def forward(self,x):\n",
        "        x = x.view(-1, 784) \n",
        "        x = F.relu(self.l1(x))\n",
        "        return self.l2(x)\n",
        "    "
      ],
      "execution_count": 0,
      "outputs": []
    },
    {
      "cell_type": "code",
      "metadata": {
        "id": "84dxOipdA3FL",
        "colab_type": "code",
        "colab": {}
      },
      "source": [
        "model2 = TwoLayerModel()\n",
        "loss2 = nn.CrossEntropyLoss()\n",
        "optimizer2 = optim.SGD(model2.parameters(), lr = 0.001, momentum=0.9)"
      ],
      "execution_count": 0,
      "outputs": []
    },
    {
      "cell_type": "code",
      "metadata": {
        "id": "2j5F5QzkA3FP",
        "colab_type": "code",
        "colab": {}
      },
      "source": [
        "train_loss_list2, training_accuracy2, test_loss_list2, testing_accuracy2 = train(model2, train_loader, test_loader, loss2, optimizer2, 15)"
      ],
      "execution_count": 0,
      "outputs": []
    }
  ]
}