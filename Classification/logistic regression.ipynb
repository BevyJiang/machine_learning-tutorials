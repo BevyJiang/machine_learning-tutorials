{
 "cells": [
  {
   "cell_type": "code",
   "execution_count": 2,
   "metadata": {},
   "outputs": [
    {
     "name": "stdout",
     "output_type": "stream",
     "text": [
      "Collecting torch\n",
      "\u001b[?25l  Downloading https://files.pythonhosted.org/packages/7e/94/0ed9f7899aa0f5e7ff753a3a2b6944c146eef3f4cd51c59ab07c4575992b/torch-1.3.1-cp37-none-macosx_10_7_x86_64.whl (71.1MB)\n",
      "\u001b[K     |████████████████████████████████| 71.1MB 654kB/s  eta 0:00:01     |███████████████████████         | 51.2MB 352kB/s eta 0:00:57\n",
      "\u001b[?25hRequirement already satisfied: numpy in /Users/danjinjiang/.local/lib/python3.7/site-packages (from torch) (1.17.3)\n",
      "Installing collected packages: torch\n",
      "Successfully installed torch-1.3.1\n"
     ]
    }
   ],
   "source": [
    "!pip install torch\n"
   ]
  },
  {
   "cell_type": "code",
   "execution_count": 44,
   "metadata": {},
   "outputs": [],
   "source": [
    "from torch import nn, optim, from_numpy\n",
    "import numpy as np"
   ]
  },
  {
   "cell_type": "code",
   "execution_count": 48,
   "metadata": {},
   "outputs": [],
   "source": [
    "data = np.loadtxt('diabetes.csv', delimiter=',', dtype=np.float32)\n",
    "x = from_numpy(xy[:, 0:-1])\n",
    "y = from_numpy(xy[:, [-1]])"
   ]
  },
  {
   "cell_type": "code",
   "execution_count": 49,
   "metadata": {},
   "outputs": [],
   "source": [
    "class Model(nn.Module):\n",
    "    def __init__(self):\n",
    "        super(Model, self).__init__()\n",
    "        self.l1 = nn.Linear(8,5)\n",
    "        self.l2 = nn.Linear(5,3)\n",
    "        self.l3 = nn.Linear(3,1)\n",
    "        \n",
    "        self.sigmoid = nn.Sigmoid()\n",
    "        \n",
    "    def forward(self, x):\n",
    "        out1 = self.sigmoid(self.l1(x))\n",
    "        out2 = self.sigmoid(self.l2(out1))\n",
    "        y_pred = self.sigmoid(self.l3(out2))\n",
    "        return y_pred\n",
    "model = Model()"
   ]
  },
  {
   "cell_type": "code",
   "execution_count": 50,
   "metadata": {},
   "outputs": [
    {
     "name": "stdout",
     "output_type": "stream",
     "text": [
      "Epoch: 1/100 | Loss: 0.8300\n",
      "Epoch: 2/100 | Loss: 0.8150\n",
      "Epoch: 3/100 | Loss: 0.8012\n",
      "Epoch: 4/100 | Loss: 0.7884\n",
      "Epoch: 5/100 | Loss: 0.7767\n",
      "Epoch: 6/100 | Loss: 0.7659\n",
      "Epoch: 7/100 | Loss: 0.7560\n",
      "Epoch: 8/100 | Loss: 0.7469\n",
      "Epoch: 9/100 | Loss: 0.7386\n",
      "Epoch: 10/100 | Loss: 0.7309\n",
      "Epoch: 11/100 | Loss: 0.7239\n",
      "Epoch: 12/100 | Loss: 0.7174\n",
      "Epoch: 13/100 | Loss: 0.7115\n",
      "Epoch: 14/100 | Loss: 0.7061\n",
      "Epoch: 15/100 | Loss: 0.7011\n",
      "Epoch: 16/100 | Loss: 0.6965\n",
      "Epoch: 17/100 | Loss: 0.6923\n",
      "Epoch: 18/100 | Loss: 0.6885\n",
      "Epoch: 19/100 | Loss: 0.6849\n",
      "Epoch: 20/100 | Loss: 0.6817\n",
      "Epoch: 21/100 | Loss: 0.6787\n",
      "Epoch: 22/100 | Loss: 0.6760\n",
      "Epoch: 23/100 | Loss: 0.6735\n",
      "Epoch: 24/100 | Loss: 0.6712\n",
      "Epoch: 25/100 | Loss: 0.6691\n",
      "Epoch: 26/100 | Loss: 0.6671\n",
      "Epoch: 27/100 | Loss: 0.6654\n",
      "Epoch: 28/100 | Loss: 0.6637\n",
      "Epoch: 29/100 | Loss: 0.6622\n",
      "Epoch: 30/100 | Loss: 0.6608\n",
      "Epoch: 31/100 | Loss: 0.6596\n",
      "Epoch: 32/100 | Loss: 0.6584\n",
      "Epoch: 33/100 | Loss: 0.6573\n",
      "Epoch: 34/100 | Loss: 0.6564\n",
      "Epoch: 35/100 | Loss: 0.6555\n",
      "Epoch: 36/100 | Loss: 0.6546\n",
      "Epoch: 37/100 | Loss: 0.6539\n",
      "Epoch: 38/100 | Loss: 0.6532\n",
      "Epoch: 39/100 | Loss: 0.6525\n",
      "Epoch: 40/100 | Loss: 0.6519\n",
      "Epoch: 41/100 | Loss: 0.6514\n",
      "Epoch: 42/100 | Loss: 0.6509\n",
      "Epoch: 43/100 | Loss: 0.6504\n",
      "Epoch: 44/100 | Loss: 0.6500\n",
      "Epoch: 45/100 | Loss: 0.6496\n",
      "Epoch: 46/100 | Loss: 0.6492\n",
      "Epoch: 47/100 | Loss: 0.6489\n",
      "Epoch: 48/100 | Loss: 0.6486\n",
      "Epoch: 49/100 | Loss: 0.6483\n",
      "Epoch: 50/100 | Loss: 0.6481\n",
      "Epoch: 51/100 | Loss: 0.6478\n",
      "Epoch: 52/100 | Loss: 0.6476\n",
      "Epoch: 53/100 | Loss: 0.6474\n",
      "Epoch: 54/100 | Loss: 0.6472\n",
      "Epoch: 55/100 | Loss: 0.6470\n",
      "Epoch: 56/100 | Loss: 0.6469\n",
      "Epoch: 57/100 | Loss: 0.6467\n",
      "Epoch: 58/100 | Loss: 0.6466\n",
      "Epoch: 59/100 | Loss: 0.6465\n",
      "Epoch: 60/100 | Loss: 0.6464\n",
      "Epoch: 61/100 | Loss: 0.6463\n",
      "Epoch: 62/100 | Loss: 0.6462\n",
      "Epoch: 63/100 | Loss: 0.6461\n",
      "Epoch: 64/100 | Loss: 0.6460\n",
      "Epoch: 65/100 | Loss: 0.6459\n",
      "Epoch: 66/100 | Loss: 0.6458\n",
      "Epoch: 67/100 | Loss: 0.6458\n",
      "Epoch: 68/100 | Loss: 0.6457\n",
      "Epoch: 69/100 | Loss: 0.6457\n",
      "Epoch: 70/100 | Loss: 0.6456\n",
      "Epoch: 71/100 | Loss: 0.6456\n",
      "Epoch: 72/100 | Loss: 0.6455\n",
      "Epoch: 73/100 | Loss: 0.6455\n",
      "Epoch: 74/100 | Loss: 0.6454\n",
      "Epoch: 75/100 | Loss: 0.6454\n",
      "Epoch: 76/100 | Loss: 0.6454\n",
      "Epoch: 77/100 | Loss: 0.6453\n",
      "Epoch: 78/100 | Loss: 0.6453\n",
      "Epoch: 79/100 | Loss: 0.6453\n",
      "Epoch: 80/100 | Loss: 0.6453\n",
      "Epoch: 81/100 | Loss: 0.6452\n",
      "Epoch: 82/100 | Loss: 0.6452\n",
      "Epoch: 83/100 | Loss: 0.6452\n",
      "Epoch: 84/100 | Loss: 0.6452\n",
      "Epoch: 85/100 | Loss: 0.6452\n",
      "Epoch: 86/100 | Loss: 0.6452\n",
      "Epoch: 87/100 | Loss: 0.6451\n",
      "Epoch: 88/100 | Loss: 0.6451\n",
      "Epoch: 89/100 | Loss: 0.6451\n",
      "Epoch: 90/100 | Loss: 0.6451\n",
      "Epoch: 91/100 | Loss: 0.6451\n",
      "Epoch: 92/100 | Loss: 0.6451\n",
      "Epoch: 93/100 | Loss: 0.6451\n",
      "Epoch: 94/100 | Loss: 0.6451\n",
      "Epoch: 95/100 | Loss: 0.6451\n",
      "Epoch: 96/100 | Loss: 0.6451\n",
      "Epoch: 97/100 | Loss: 0.6451\n",
      "Epoch: 98/100 | Loss: 0.6451\n",
      "Epoch: 99/100 | Loss: 0.6450\n",
      "Epoch: 100/100 | Loss: 0.6450\n"
     ]
    }
   ],
   "source": [
    "criterion = nn.BCELoss(reduction='mean')\n",
    "optimizer = optim.SGD(model.parameters(), lr=0.1)\n",
    "\n",
    "\n",
    "for epoch in range(100):\n",
    "    \n",
    "    y_pred = model(x)\n",
    "\n",
    "   \n",
    "    loss = criterion(y_pred, y)\n",
    "    print(f'Epoch: {epoch + 1}/100 | Loss: {loss.item():.4f}')\n",
    "\n",
    "    \n",
    "    optimizer.zero_grad()\n",
    "    loss.backward()\n",
    "    optimizer.step()"
   ]
  },
  {
   "cell_type": "code",
   "execution_count": null,
   "metadata": {},
   "outputs": [],
   "source": []
  }
 ],
 "metadata": {
  "kernelspec": {
   "display_name": "Python 3",
   "language": "python",
   "name": "python3"
  },
  "language_info": {
   "codemirror_mode": {
    "name": "ipython",
    "version": 3
   },
   "file_extension": ".py",
   "mimetype": "text/x-python",
   "name": "python",
   "nbconvert_exporter": "python",
   "pygments_lexer": "ipython3",
   "version": "3.7.3"
  }
 },
 "nbformat": 4,
 "nbformat_minor": 2
}
